{
 "cells": [
  {
   "cell_type": "code",
   "execution_count": 1,
   "id": "e4b02aef-bd3b-4863-8678-6a639b570749",
   "metadata": {
    "scrolled": true
   },
   "outputs": [
    {
     "name": "stdout",
     "output_type": "stream",
     "text": [
      "Requirement already satisfied: sqlalchemy in ./DS2002/lib/python3.9/site-packages (2.0.34)\n",
      "Requirement already satisfied: typing-extensions>=4.6.0 in ./DS2002/lib/python3.9/site-packages (from sqlalchemy) (4.12.2)\n",
      "\u001b[33mWARNING: You are using pip version 21.1.3; however, version 24.2 is available.\n",
      "You should consider upgrading via the '/Users/anjali/DS2002/bin/python3 -m pip install --upgrade pip' command.\u001b[0m\n"
     ]
    }
   ],
   "source": [
    "!pip install sqlalchemy"
   ]
  },
  {
   "cell_type": "code",
   "execution_count": 28,
   "id": "96fae331-66b8-4c16-a802-912305148b4f",
   "metadata": {},
   "outputs": [
    {
     "name": "stdout",
     "output_type": "stream",
     "text": [
      "Database created and connected!\n"
     ]
    }
   ],
   "source": [
    "## Creating a connection to the database\n",
    "import sqlite3\n",
    "\n",
    "# Create or connect to an SQLite database\n",
    "connection = sqlite3.connect('student_grades.db')\n",
    "\n",
    "# Check if the connection was successful\n",
    "print(\"Database created and connected!\")"
   ]
  },
  {
   "cell_type": "code",
   "execution_count": 29,
   "id": "6308ca45-d12b-4fc2-9788-d81b0e4d385f",
   "metadata": {},
   "outputs": [
    {
     "name": "stdout",
     "output_type": "stream",
     "text": [
      "Cursor created!\n"
     ]
    }
   ],
   "source": [
    "## Creating a cursor object \n",
    "cursor = connection.cursor()\n",
    "\n",
    "# Explanation\n",
    "print(\"Cursor created!\")"
   ]
  },
  {
   "cell_type": "code",
   "execution_count": 30,
   "id": "ef5f5203-285a-4bf1-89c4-a2b8d913667d",
   "metadata": {},
   "outputs": [
    {
     "name": "stdout",
     "output_type": "stream",
     "text": [
      "Students table created!\n"
     ]
    }
   ],
   "source": [
    "# create students table \n",
    "cursor.execute('''\n",
    "CREATE TABLE IF NOT EXISTS students (\n",
    "    student_id INTEGER PRIMARY KEY AUTOINCREMENT,\n",
    "    first_name TEXT NOT NULL,\n",
    "    last_name TEXT\n",
    ")\n",
    "''')\n",
    "\n",
    "print(\"Students table created!\")"
   ]
  },
  {
   "cell_type": "code",
   "execution_count": 41,
   "id": "bc67945f-ee49-4469-989f-bcf44e3700b5",
   "metadata": {},
   "outputs": [
    {
     "name": "stdout",
     "output_type": "stream",
     "text": [
      "Grades table recreated!\n"
     ]
    }
   ],
   "source": [
    "# Drop the existing grades table\n",
    "cursor.execute('DROP TABLE IF EXISTS grades')\n",
    "\n",
    "# Recreate the table with the correct structure\n",
    "cursor.execute('''\n",
    "CREATE TABLE IF NOT EXISTS grades (\n",
    "    grade_id INTEGER PRIMARY KEY AUTOINCREMENT,\n",
    "    student_id INTEGER,\n",
    "    subject TEXT NOT NULL,\n",
    "    grade INTEGER,\n",
    "    FOREIGN KEY (student_id) REFERENCES students(student_id)\n",
    ")\n",
    "''')\n",
    "\n",
    "print(\"Grades table recreated!\")\n"
   ]
  },
  {
   "cell_type": "code",
   "execution_count": 38,
   "id": "06685438-ecb9-4b0c-bcf5-4d1ddba59a10",
   "metadata": {},
   "outputs": [
    {
     "name": "stdout",
     "output_type": "stream",
     "text": [
      "Data inserted into the students table!\n"
     ]
    }
   ],
   "source": [
    "# insert data into student table \n",
    "\n",
    "# Sample data to insert into the sales table\n",
    "students_data = [\n",
    "    ('Alice', 'Johnson'),\n",
    "    ('Bob', 'Smith'),\n",
    "    ('Carol', 'White'),\n",
    "    ('David', 'Brown'),\n",
    "    ('Eve', 'Davis')\n",
    "]\n",
    "\n",
    "# Insert data into the table\n",
    "cursor.executemany('''\n",
    "INSERT INTO students (first_name, last_name) VALUES (?, ?)\n",
    "''', students_data)\n",
    "\n",
    "# Commit the transaction\n",
    "connection.commit()\n",
    "\n",
    "print(\"Data inserted into the students table!\")"
   ]
  },
  {
   "cell_type": "code",
   "execution_count": 42,
   "id": "31626451-269d-41b1-b6d3-0da4fb4d802a",
   "metadata": {},
   "outputs": [
    {
     "name": "stdout",
     "output_type": "stream",
     "text": [
      "Data inserted into the grades table!\n"
     ]
    }
   ],
   "source": [
    "# insert data into the grades tables\n",
    "\n",
    "# Sample data to insert into the sales table\n",
    "grades_data = [\n",
    "    (1, 'Math', 98),\n",
    "    (1, 'English', 77),\n",
    "    (2, 'Math', 23),\n",
    "    (2, 'English', 100),\n",
    "    (3, 'Math', 89),\n",
    "    (3, 'English', 90),\n",
    "    (4, 'Math', 93),\n",
    "    (4, 'English', 93),\n",
    "    (5, 'Math', 100),\n",
    "    (5, 'English', 100)\n",
    "]\n",
    "\n",
    "# Insert data into the table\n",
    "cursor.executemany('''\n",
    "INSERT INTO grades (student_id, subject, grade) VALUES (?, ?, ?)\n",
    "''', grades_data)\n",
    "\n",
    "# Commit the transaction\n",
    "connection.commit()\n",
    "\n",
    "print(\"Data inserted into the grades table!\")"
   ]
  },
  {
   "cell_type": "code",
   "execution_count": 45,
   "id": "994e0016-491a-4490-95d2-44a4285a9fa4",
   "metadata": {},
   "outputs": [
    {
     "name": "stdout",
     "output_type": "stream",
     "text": [
      "All students' names and grades:\n",
      "('Alice', 'Johnson', 'Math', 98)\n",
      "('Alice', 'Johnson', 'English', 77)\n",
      "('Bob', 'Smith', 'Math', 23)\n",
      "('Bob', 'Smith', 'English', 100)\n",
      "('Carol', 'White', 'Math', 89)\n",
      "('Carol', 'White', 'English', 90)\n",
      "('David', 'Brown', 'Math', 93)\n",
      "('David', 'Brown', 'English', 93)\n",
      "('Eve', 'Davis', 'Math', 100)\n",
      "('Eve', 'Davis', 'English', 100)\n"
     ]
    }
   ],
   "source": [
    "# Retrieve all students' names and grades using a JOIN\n",
    "cursor.execute('''\n",
    "SELECT students.first_name, students.last_name, grades.subject, grades.grade \n",
    "FROM students\n",
    "JOIN grades ON students.student_id = grades.student_id\n",
    "''')\n",
    "\n",
    "rows = cursor.fetchall()\n",
    "\n",
    "# Print the results\n",
    "print(\"All students' names and grades:\")\n",
    "for row in rows:\n",
    "    print(row)\n"
   ]
  },
  {
   "cell_type": "code",
   "execution_count": 47,
   "id": "58b336ec-8130-4084-90b8-6c01be46447f",
   "metadata": {},
   "outputs": [
    {
     "name": "stdout",
     "output_type": "stream",
     "text": [
      "Average grade per student:\n",
      "Student ID: 1, Average Grade: 87.5\n",
      "Student ID: 2, Average Grade: 61.5\n",
      "Student ID: 3, Average Grade: 89.5\n",
      "Student ID: 4, Average Grade: 93.0\n",
      "Student ID: 5, Average Grade: 100.0\n"
     ]
    }
   ],
   "source": [
    "# Find average grade per student\n",
    "cursor.execute('''\n",
    "SELECT student_id, AVG(grade) AS average_grade \n",
    "FROM grades\n",
    "GROUP BY student_id\n",
    "''')\n",
    "\n",
    "# Fetch all results\n",
    "average_grades = cursor.fetchall()\n",
    "\n",
    "# Display the result\n",
    "print(\"Average grade per student:\")\n",
    "for row in average_grades:\n",
    "    print(f\"Student ID: {row[0]}, Average Grade: {row[1]}\")\n"
   ]
  },
  {
   "cell_type": "code",
   "execution_count": 52,
   "id": "dc748563-f797-45c3-b192-12cc89489a8c",
   "metadata": {},
   "outputs": [
    {
     "name": "stdout",
     "output_type": "stream",
     "text": [
      "Eve Davis 100.00\n"
     ]
    }
   ],
   "source": [
    "# find the student with the highest average grade \n",
    "cursor.execute('''\n",
    "SELECT students.first_name, students.last_name, AVG(grades.grade) AS average_grade\n",
    "FROM students\n",
    "JOIN grades ON students.student_id = grades.student_id\n",
    "GROUP BY students.student_id\n",
    "ORDER BY average_grade DESC\n",
    "LIMIT 1\n",
    "''')\n",
    "\n",
    "# Fetch the result\n",
    "top_student = cursor.fetchone()\n",
    "\n",
    "# Display the result\n",
    "print(f\"{top_student[0]} {top_student[1]} {top_student[2]:.2f}\")\n"
   ]
  },
  {
   "cell_type": "code",
   "execution_count": 55,
   "id": "40ed0b2a-9440-4d95-a984-72672278b1cd",
   "metadata": {},
   "outputs": [
    {
     "name": "stdout",
     "output_type": "stream",
     "text": [
      "Average grade for Math: 80.60\n"
     ]
    }
   ],
   "source": [
    "# Find the average grade for the \"Math\" subject\n",
    "cursor.execute('''\n",
    "SELECT AVG(grade) AS average_math_grade\n",
    "FROM grades\n",
    "WHERE subject = 'Math'\n",
    "''')\n",
    "\n",
    "# Fetch the result\n",
    "average_math_grade = cursor.fetchone()[0]\n",
    "\n",
    "# Display the result\n",
    "print(f\"Average grade for Math: {average_math_grade:.2f}\")\n"
   ]
  },
  {
   "cell_type": "code",
   "execution_count": 58,
   "id": "1a743dd5-2f76-4a35-9f26-f2f6f11ca3a6",
   "metadata": {},
   "outputs": [
    {
     "name": "stdout",
     "output_type": "stream",
     "text": [
      "Alice Johnson scored 98 in Math\n",
      "Bob Smith scored 100 in English\n",
      "David Brown scored 93 in Math\n",
      "David Brown scored 93 in English\n",
      "Eve Davis scored 100 in Math\n",
      "Eve Davis scored 100 in English\n"
     ]
    }
   ],
   "source": [
    "# List all students who scored above 90 in any subject\n",
    "cursor.execute('''\n",
    "SELECT students.first_name, students.last_name, grades.subject, grades.grade\n",
    "FROM students\n",
    "JOIN grades ON students.student_id = grades.student_id\n",
    "WHERE grades.grade > 90\n",
    "''')\n",
    "\n",
    "# Fetch all results\n",
    "top_students = cursor.fetchall()\n",
    "\n",
    "# Display the result\n",
    "for student in top_students:\n",
    "    print(f\"{student[0]} {student[1]} scored {student[3]} in {student[2]}\")\n"
   ]
  },
  {
   "cell_type": "code",
   "execution_count": 59,
   "id": "aedf4446-6aaa-4a8b-a56b-b05cb59d0bf3",
   "metadata": {},
   "outputs": [
    {
     "name": "stdout",
     "output_type": "stream",
     "text": [
      "Joined sdata:\n",
      "('Alice', 'Johnson', 'Math', 98)\n",
      "('Alice', 'Johnson', 'English', 77)\n",
      "('Bob', 'Smith', 'Math', 23)\n",
      "('Bob', 'Smith', 'English', 100)\n",
      "('Carol', 'White', 'Math', 89)\n",
      "('Carol', 'White', 'English', 90)\n",
      "('David', 'Brown', 'Math', 93)\n",
      "('David', 'Brown', 'English', 93)\n",
      "('Eve', 'Davis', 'Math', 100)\n",
      "('Eve', 'Davis', 'English', 100)\n"
     ]
    }
   ],
   "source": [
    "# loading the data into pandas \n",
    "# Perform a JOIN query between sales and flavor_details\n",
    "cursor.execute('''\n",
    "SELECT students.first_name, students.last_name, grades.subject, grades.grade\n",
    "FROM students\n",
    "JOIN grades ON students.student_id = grades.student_id\n",
    "''')\n",
    "\n",
    "# Fetch and display the results\n",
    "joined_data = cursor.fetchall()\n",
    "\n",
    "print(\"Joined data:\")\n",
    "for row in joined_data:\n",
    "    print(row)\n",
    "    "
   ]
  },
  {
   "cell_type": "code",
   "execution_count": 62,
   "id": "cc7e93f3-66a4-49d2-a533-7e927a16fc9e",
   "metadata": {},
   "outputs": [
    {
     "data": {
      "text/html": [
       "<div>\n",
       "<style scoped>\n",
       "    .dataframe tbody tr th:only-of-type {\n",
       "        vertical-align: middle;\n",
       "    }\n",
       "\n",
       "    .dataframe tbody tr th {\n",
       "        vertical-align: top;\n",
       "    }\n",
       "\n",
       "    .dataframe thead th {\n",
       "        text-align: right;\n",
       "    }\n",
       "</style>\n",
       "<table border=\"1\" class=\"dataframe\">\n",
       "  <thead>\n",
       "    <tr style=\"text-align: right;\">\n",
       "      <th></th>\n",
       "      <th>first_name</th>\n",
       "      <th>last_name</th>\n",
       "      <th>subject</th>\n",
       "      <th>grade</th>\n",
       "    </tr>\n",
       "  </thead>\n",
       "  <tbody>\n",
       "    <tr>\n",
       "      <th>0</th>\n",
       "      <td>Alice</td>\n",
       "      <td>Johnson</td>\n",
       "      <td>Math</td>\n",
       "      <td>98</td>\n",
       "    </tr>\n",
       "    <tr>\n",
       "      <th>1</th>\n",
       "      <td>Alice</td>\n",
       "      <td>Johnson</td>\n",
       "      <td>English</td>\n",
       "      <td>77</td>\n",
       "    </tr>\n",
       "    <tr>\n",
       "      <th>2</th>\n",
       "      <td>Bob</td>\n",
       "      <td>Smith</td>\n",
       "      <td>Math</td>\n",
       "      <td>23</td>\n",
       "    </tr>\n",
       "    <tr>\n",
       "      <th>3</th>\n",
       "      <td>Bob</td>\n",
       "      <td>Smith</td>\n",
       "      <td>English</td>\n",
       "      <td>100</td>\n",
       "    </tr>\n",
       "    <tr>\n",
       "      <th>4</th>\n",
       "      <td>Carol</td>\n",
       "      <td>White</td>\n",
       "      <td>Math</td>\n",
       "      <td>89</td>\n",
       "    </tr>\n",
       "  </tbody>\n",
       "</table>\n",
       "</div>"
      ],
      "text/plain": [
       "  first_name last_name  subject  grade\n",
       "0      Alice   Johnson     Math     98\n",
       "1      Alice   Johnson  English     77\n",
       "2        Bob     Smith     Math     23\n",
       "3        Bob     Smith  English    100\n",
       "4      Carol     White     Math     89"
      ]
     },
     "execution_count": 62,
     "metadata": {},
     "output_type": "execute_result"
    }
   ],
   "source": [
    "import pandas as pd\n",
    "\n",
    "# Query the sales data into a DataFrame\n",
    "df = pd.read_sql_query('''\n",
    "SELECT students.first_name, students.last_name, grades.subject, grades.grade\n",
    "FROM students\n",
    "JOIN grades ON students.student_id = grades.student_id\n",
    "''', connection)\n",
    "\n",
    "# Display the DataFrame\n",
    "df.head()"
   ]
  },
  {
   "cell_type": "code",
   "execution_count": 63,
   "id": "8de30b3c-035b-4fd0-8579-26ef32a7c24a",
   "metadata": {},
   "outputs": [],
   "source": [
    "import matplotlib.pyplot as plt"
   ]
  },
  {
   "cell_type": "code",
   "execution_count": 64,
   "id": "c4f164cd-2feb-47a5-a248-1bc1cc50eb51",
   "metadata": {},
   "outputs": [
    {
     "data": {
      "image/png": "[encoded data removed]",
      "text/plain": [
       "<Figure size 1000x500 with 1 Axes>"
      ]
     },
     "metadata": {},
     "output_type": "display_data"
    },
    {
     "data": {
      "image/png": "[encoded data removed]",
      "text/plain": [
       "<Figure size 1000x500 with 1 Axes>"
      ]
     },
     "metadata": {},
     "output_type": "display_data"
    }
   ],
   "source": [
    "\n",
    "df['student'] = df['first_name'] + ' ' + df['last_name']\n",
    "avg_grades_per_student = df.groupby('student')['grade'].mean()\n",
    "\n",
    "avg_grades_per_subject = df.groupby('subject')['grade'].mean()\n",
    "\n",
    "# Plotting the average grade per student\n",
    "plt.figure(figsize=(10, 5))\n",
    "avg_grades_per_student.plot(kind='bar', color='skyblue')\n",
    "plt.title('Average Grade Per Student')\n",
    "plt.xlabel('Students')\n",
    "plt.ylabel('Average Grade')\n",
    "plt.xticks(rotation=45)\n",
    "plt.tight_layout()\n",
    "plt.show()\n",
    "\n",
    "# Plotting the average grade per subject\n",
    "plt.figure(figsize=(10, 5))\n",
    "avg_grades_per_subject.plot(kind='bar', color='lightgreen')\n",
    "plt.title('Average Grade Per Subject')\n",
    "plt.xlabel('Subjects')\n",
    "plt.ylabel('Average Grade')\n",
    "plt.xticks(rotation=45)\n",
    "plt.tight_layout()\n",
    "plt.show()"
   ]
  },
  {
   "cell_type": "code",
   "execution_count": 73,
   "id": "fc3ed60e-9e32-483a-833e-ddd1dfd85f93",
   "metadata": {},
   "outputs": [
    {
     "data": {
      "image/png": "[encoded data removed]",
      "text/plain": [
       "<Figure size 1000x600 with 1 Axes>"
      ]
     },
     "metadata": {},
     "output_type": "display_data"
    }
   ],
   "source": [
    "import matplotlib.pyplot as plt\n",
    "import pandas as pd\n",
    "import numpy as np\n",
    "\n",
    "# Query to find the student with the highest grade in each subject\n",
    "df = pd.read_sql_query('''\n",
    "SELECT students.first_name, students.last_name, grades.subject, grades.grade\n",
    "FROM students\n",
    "JOIN grades ON students.student_id = grades.student_id\n",
    "WHERE (grades.subject, grades.grade) IN (\n",
    "    SELECT subject, MAX(grade) \n",
    "    FROM grades \n",
    "    GROUP BY subject\n",
    ")\n",
    "GROUP BY grades.subject\n",
    "''', connection)\n",
    "\n",
    "# Combine first name and last name to create a full name for each student\n",
    "df['student'] = df['first_name'] + ' ' + df['last_name']\n",
    "\n",
    "# Get unique subjects\n",
    "subjects = df['subject'].unique()\n",
    "\n",
    "# Set up figure and axes for the grouped bar chart\n",
    "fig, ax = plt.subplots(figsize=(10, 6))\n",
    "\n",
    "bar_width = 0.35\n",
    "for idx, row in df.iterrows():\n",
    "    ax.bar(idx, row['grade'], width=bar_width, label=row['student'])ax.set_xticks(np.arange(len(subjects)))\n",
    "ax.set_xticklabels(df['subject'])\n",
    "ax.set_xlabel('Subjects')\n",
    "ax.set_ylabel('Highest Grade')\n",
    "ax.set_title('Student with the Highest Grade in Each Subject')\n",
    "ax.legend()\n",
    "plt.tight_layout()\n",
    "plt.show()\n"
   ]
  },
  {
   "cell_type": "code",
   "execution_count": 72,
   "id": "026be492-bada-4e19-959a-816a56534b08",
   "metadata": {},
   "outputs": [
    {
     "data": {
      "text/html": [
       "<div>\n",
       "<style scoped>\n",
       "    .dataframe tbody tr th:only-of-type {\n",
       "        vertical-align: middle;\n",
       "    }\n",
       "\n",
       "    .dataframe tbody tr th {\n",
       "        vertical-align: top;\n",
       "    }\n",
       "\n",
       "    .dataframe thead th {\n",
       "        text-align: right;\n",
       "    }\n",
       "</style>\n",
       "<table border=\"1\" class=\"dataframe\">\n",
       "  <thead>\n",
       "    <tr style=\"text-align: right;\">\n",
       "      <th></th>\n",
       "      <th>first_name</th>\n",
       "      <th>last_name</th>\n",
       "      <th>subject</th>\n",
       "      <th>grade</th>\n",
       "      <th>student</th>\n",
       "    </tr>\n",
       "  </thead>\n",
       "  <tbody>\n",
       "    <tr>\n",
       "      <th>0</th>\n",
       "      <td>Bob</td>\n",
       "      <td>Smith</td>\n",
       "      <td>English</td>\n",
       "      <td>100</td>\n",
       "      <td>Bob Smith</td>\n",
       "    </tr>\n",
       "    <tr>\n",
       "      <th>1</th>\n",
       "      <td>Eve</td>\n",
       "      <td>Davis</td>\n",
       "      <td>Math</td>\n",
       "      <td>100</td>\n",
       "      <td>Eve Davis</td>\n",
       "    </tr>\n",
       "    <tr>\n",
       "      <th>2</th>\n",
       "      <td>Eve</td>\n",
       "      <td>Davis</td>\n",
       "      <td>English</td>\n",
       "      <td>100</td>\n",
       "      <td>Eve Davis</td>\n",
       "    </tr>\n",
       "  </tbody>\n",
       "</table>\n",
       "</div>"
      ],
      "text/plain": [
       "  first_name last_name  subject  grade    student\n",
       "0        Bob     Smith  English    100  Bob Smith\n",
       "1        Eve     Davis     Math    100  Eve Davis\n",
       "2        Eve     Davis  English    100  Eve Davis"
      ]
     },
     "execution_count": 72,
     "metadata": {},
     "output_type": "execute_result"
    }
   ],
   "source": [
    "df"
   ]
  },
  {
   "cell_type": "code",
   "execution_count": null,
   "id": "1f651ad4-1b26-4227-a230-cc8d83a2c163",
   "metadata": {},
   "outputs": [],
   "source": []
  },
  {
   "cell_type": "code",
   "execution_count": null,
   "id": "2d2f74f0-bf08-4af3-b3d9-dd7d073ba052",
   "metadata": {},
   "outputs": [],
   "source": []
  }
 ],
 "metadata": {
  "kernelspec": {
   "display_name": "Python 3 (ipykernel)",
   "language": "python",
   "name": "python3"
  },
  "language_info": {
   "codemirror_mode": {
    "name": "ipython",
    "version": 3
   },
   "file_extension": ".py",
   "mimetype": "text/x-python",
   "name": "python",
   "nbconvert_exporter": "python",
   "pygments_lexer": "ipython3",
   "version": "3.9.6"
  }
 },
 "nbformat": 4,
 "nbformat_minor": 5
}
